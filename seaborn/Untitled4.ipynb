{
 "cells": [
  {
   "cell_type": "code",
   "execution_count": 6,
   "metadata": {},
   "outputs": [
    {
     "name": "stdout",
     "output_type": "stream",
     "text": [
      "************\n",
      "**        **\n",
      "**        **\n",
      "**        **\n",
      "************\n"
     ]
    }
   ],
   "source": [
    "def deva(m,n):\n",
    "    for i in range(1,m+1):\n",
    "        for j in range(1,n+1):\n",
    "            if(i==1 or i==m or j==1 or j==n):\n",
    "                print(\"*\", end=\"*\")\n",
    "            else:\n",
    "                print(\" \",end=\" \")\n",
    "        print()\n",
    "deva(5,6)"
   ]
  },
  {
   "cell_type": "code",
   "execution_count": 10,
   "metadata": {},
   "outputs": [
    {
     "name": "stdout",
     "output_type": "stream",
     "text": [
      "DDDDDDDDDDDDDDDDDDDDDDDDDDDDDDDDDDDDDDDD\n",
      "DD                                    DD\n",
      "DD                                    DD\n",
      "DD                                    DD\n",
      "DD                                    DD\n",
      "DDDDDDDDDDDDDDDDDDDDDDDDDDDDDDDDDDDDDDDD\n"
     ]
    }
   ],
   "source": [
    "def print_rectangle(n, m) : \n",
    "      \n",
    "    for i in range(1, n+1) : \n",
    "        for j in range(1, m+1) : \n",
    "            if (i == 1 or i == n or\n",
    "                j == 1 or j == m) : \n",
    "                print(\"D\",end=\"D\")             \n",
    "            else : \n",
    "                print(\" \",end=\" \")             \n",
    "          \n",
    "        print() \n",
    "  \n",
    "  \n",
    "# Driver program for above function \n",
    "rows = 6\n",
    "columns = 20\n",
    "print_rectangle(rows, columns) "
   ]
  },
  {
   "cell_type": "code",
   "execution_count": 19,
   "metadata": {},
   "outputs": [
    {
     "name": "stdout",
     "output_type": "stream",
     "text": [
      "13\n",
      "13\n"
     ]
    }
   ],
   "source": [
    "a=13\n",
    "b= a\n",
    "print(a)\n",
    "print(b)"
   ]
  }
 ],
 "metadata": {
  "kernelspec": {
   "display_name": "Python 3",
   "language": "python",
   "name": "python3"
  },
  "language_info": {
   "codemirror_mode": {
    "name": "ipython",
    "version": 3
   },
   "file_extension": ".py",
   "mimetype": "text/x-python",
   "name": "python",
   "nbconvert_exporter": "python",
   "pygments_lexer": "ipython3",
   "version": "3.7.4"
  }
 },
 "nbformat": 4,
 "nbformat_minor": 2
}
