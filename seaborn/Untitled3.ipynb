{
 "cells": [
  {
   "cell_type": "code",
   "execution_count": 2,
   "metadata": {},
   "outputs": [
    {
     "name": "stdout",
     "output_type": "stream",
     "text": [
      "*\n",
      "*\n",
      "*\n",
      "*\n",
      "*\n",
      "*\n",
      "\n",
      "*\n",
      " \n",
      " \n",
      " \n",
      " \n",
      "*\n",
      "\n",
      "*\n",
      " \n",
      " \n",
      " \n",
      " \n",
      "*\n",
      "\n",
      "*\n",
      " \n",
      " \n",
      " \n",
      " \n",
      "*\n",
      "\n",
      "*\n",
      "*\n",
      "*\n",
      "*\n",
      "*\n",
      "*\n",
      "\n"
     ]
    }
   ],
   "source": [
    "def Deva(ro,cl):\n",
    "    for i in range(1,ro+1):\n",
    "        for j in range(1,cl+1):\n",
    "            if(i==1 or i==ro or j==1 or j==cl):\n",
    "                print(\"*\")\n",
    "            else:\n",
    "                print(\" \")\n",
    "        print()\n",
    "    \n",
    "Deva(5,6)"
   ]
  }
 ],
 "metadata": {
  "kernelspec": {
   "display_name": "Python 3",
   "language": "python",
   "name": "python3"
  },
  "language_info": {
   "codemirror_mode": {
    "name": "ipython",
    "version": 3
   },
   "file_extension": ".py",
   "mimetype": "text/x-python",
   "name": "python",
   "nbconvert_exporter": "python",
   "pygments_lexer": "ipython3",
   "version": "3.7.4"
  }
 },
 "nbformat": 4,
 "nbformat_minor": 2
}
